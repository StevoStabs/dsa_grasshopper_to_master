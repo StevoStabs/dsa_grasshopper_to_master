{
 "cells": [
  {
   "cell_type": "code",
   "execution_count": 10,
   "metadata": {},
   "outputs": [
    {
     "name": "stdout",
     "output_type": "stream",
     "text": [
      "You ordered 1 Fudge Sundae with fudge, nuts, whipped cream, and cherry\n",
      "You ordered 1 Banana Split with bananas, whipped cream, chocolate chips, and cherry\n"
     ]
    }
   ],
   "source": [
    "# Factory Pattern\n",
    "class Ice_Cream:\n",
    "    def __init__(self, name, quantity, toppings):\n",
    "        self.name = name\n",
    "        self.quantity = quantity\n",
    "        self.toppings = toppings\n",
    "\n",
    "    def print(self):\n",
    "        print(f\"You ordered {self.quantity} {self.name} with {\", \".join(self.toppings[:-1])}, and {self.toppings[-1]}\")\n",
    "\n",
    "class Ice_Cream_Shoppe:\n",
    "    def createFudgeSundae(self):\n",
    "        name = \"Fudge Sundae\"\n",
    "        toppings = [\"fudge\", \"nuts\", \"whipped cream\", \"cherry\"]\n",
    "        return Ice_Cream(name, 1, toppings)\n",
    "    \n",
    "    def createBananaSplit(self):\n",
    "        name = \"Banana Split\"\n",
    "        toppings = [\"bananas\", \"whipped cream\", \"chocolate chips\", \"cherry\"]\n",
    "        return Ice_Cream(name, 1, toppings)\n",
    "    \n",
    "ice_cream_shoppe = Ice_Cream_Shoppe()\n",
    "ice_cream_shoppe.createFudgeSundae().print() \n",
    "ice_cream_shoppe.createBananaSplit().print()\n"
   ]
  },
  {
   "cell_type": "code",
   "execution_count": 14,
   "metadata": {},
   "outputs": [
    {
     "name": "stdout",
     "output_type": "stream",
     "text": [
      "['Chocolate chips', 'Whipped cream']\n"
     ]
    }
   ],
   "source": [
    "# Builder Pattern\n",
    "class Ice_Cream:\n",
    "    def __init__(self):\n",
    "        self.toppings = None\n",
    "        self.name = None\n",
    "        self.quantity = None\n",
    "\n",
    "    def setToppings(self, toppings):\n",
    "        self.toppings = toppings\n",
    "\n",
    "    def setName(self, name):\n",
    "        self.name = name\n",
    "\n",
    "    def setQuantity(self, quantity):\n",
    "        self.quantity = quantity\n",
    "\n",
    "class Ice_Cream_Builder:\n",
    "    def __init__(self):\n",
    "        self.ice_cream = Ice_Cream()\n",
    "\n",
    "    def addToppings(self, toppings):\n",
    "        self.ice_cream.setToppings(toppings)\n",
    "        return self\n",
    "\n",
    "    def addName(self, name):\n",
    "        self.ice_cream.setName(name)\n",
    "        return self\n",
    "\n",
    "    def addQuantity(self, quantity):\n",
    "        self.ice_cream.setQuantity(quantity)\n",
    "        return self\n",
    "\n",
    "    def build(self):\n",
    "        return self.ice_cream\n",
    "    \n",
    "ice_cream = Ice_Cream_Builder().addName(\"Banana Splitz\").addToppings([\"Chocolate chips\", \"Whipped cream\"]).addQuantity(2).build()\n",
    "print(ice_cream.toppings)"
   ]
  }
 ],
 "metadata": {
  "kernelspec": {
   "display_name": "Python 3",
   "language": "python",
   "name": "python3"
  },
  "language_info": {
   "codemirror_mode": {
    "name": "ipython",
    "version": 3
   },
   "file_extension": ".py",
   "mimetype": "text/x-python",
   "name": "python",
   "nbconvert_exporter": "python",
   "pygments_lexer": "ipython3",
   "version": "3.12.1"
  }
 },
 "nbformat": 4,
 "nbformat_minor": 2
}
