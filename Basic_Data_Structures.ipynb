{
 "cells": [
  {
   "cell_type": "markdown",
   "metadata": {},
   "source": [
    "# DSA - Grasshopper to Master\n",
    "## 𝗙𝗼𝘂𝗻𝗱𝗮𝘁𝗶𝗼𝗻𝗮𝗹 𝗞𝗻𝗼𝘄𝗹𝗲𝗱𝗴𝗲\n",
    "### 𝗕𝗮𝘀𝗶𝗰 𝗗𝗮𝘁𝗮 𝗦𝘁𝗿𝘂𝗰𝘁𝘂𝗿𝗲𝘀:\n",
    "- Arrays\n",
    "- Linked Lists\n",
    "- Stacks\n",
    "- Queues\n",
    "- Hash Tables/Hash Maps\n",
    "- Strings"
   ]
  },
  {
   "cell_type": "code",
   "execution_count": null,
   "metadata": {},
   "outputs": [],
   "source": [
    "# Arrays\n",
    "arr = ['item1', 'item2', 'item3']\n",
    "arr[0]\n",
    "arr.append('item4')\n",
    "arr"
   ]
  },
  {
   "cell_type": "code",
   "execution_count": null,
   "metadata": {},
   "outputs": [],
   "source": [
    "# Linked Lists\n",
    "list_comp = [item for item in arr]\n",
    "list_comp"
   ]
  },
  {
   "cell_type": "code",
   "execution_count": 1,
   "metadata": {},
   "outputs": [
    {
     "data": {
      "text/plain": [
       "'Target: 1 found at Index: 1'"
      ]
     },
     "execution_count": 1,
     "metadata": {},
     "output_type": "execute_result"
    }
   ],
   "source": [
    "import math\n",
    "\n",
    "arr = [x for x in range(100000000)]\n",
    "\n",
    "def binary_search(target, start=0, end=len(arr)):\n",
    "    arr.sort()\n",
    "    if(start > end):\n",
    "        return \"Target not found\"\n",
    "    middle = math.floor((start+end)/2)\n",
    "    if(arr[middle] == target):\n",
    "        return f\"Target: {target} found at Index: {middle}\"\n",
    "    if(arr[middle] > target):\n",
    "        return binary_search(target, start, middle-1)\n",
    "    if(arr[middle] < target):\n",
    "        return binary_search(target, middle+1, end)\n",
    "    \n",
    "binary_search(1)\n"
   ]
  },
  {
   "cell_type": "code",
   "execution_count": 35,
   "metadata": {},
   "outputs": [
    {
     "data": {
      "text/plain": [
       "'Target: 1 found at Index: 1'"
      ]
     },
     "execution_count": 35,
     "metadata": {},
     "output_type": "execute_result"
    }
   ],
   "source": [
    "def linear_search(target):\n",
    "    for i in range(len(arr)-1):\n",
    "        if(arr[i] == target):\n",
    "            return f\"Target: {target} found at Index: {i}\"\n",
    "        \n",
    "linear_search(1)"
   ]
  }
 ],
 "metadata": {
  "kernelspec": {
   "display_name": "Python 3",
   "language": "python",
   "name": "python3"
  },
  "language_info": {
   "codemirror_mode": {
    "name": "ipython",
    "version": 3
   },
   "file_extension": ".py",
   "mimetype": "text/x-python",
   "name": "python",
   "nbconvert_exporter": "python",
   "pygments_lexer": "ipython3",
   "version": "3.12.1"
  }
 },
 "nbformat": 4,
 "nbformat_minor": 2
}
